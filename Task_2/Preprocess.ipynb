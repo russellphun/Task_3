{
 "cells": [
  {
   "cell_type": "code",
   "execution_count": null,
   "metadata": {
    "colab": {
     "base_uri": "https://localhost:8080/"
    },
    "id": "PwI3y7U5P5WX",
    "outputId": "356cd123-256f-40d9-ae7e-26addd58650f"
   },
   "outputs": [
    {
     "name": "stdout",
     "output_type": "stream",
     "text": [
      "Collecting trackintel\n",
      "  Downloading trackintel-1.3.1-py3-none-any.whl.metadata (8.7 kB)\n",
      "Requirement already satisfied: pandas in /usr/local/lib/python3.10/dist-packages (from trackintel) (2.2.2)\n",
      "Requirement already satisfied: geopandas>=0.12.0 in /usr/local/lib/python3.10/dist-packages (from trackintel) (1.0.1)\n",
      "Requirement already satisfied: matplotlib in /usr/local/lib/python3.10/dist-packages (from trackintel) (3.8.0)\n",
      "Requirement already satisfied: numpy in /usr/local/lib/python3.10/dist-packages (from trackintel) (1.26.4)\n",
      "Requirement already satisfied: shapely in /usr/local/lib/python3.10/dist-packages (from trackintel) (2.0.6)\n",
      "Requirement already satisfied: networkx in /usr/local/lib/python3.10/dist-packages (from trackintel) (3.4.2)\n",
      "Collecting geoalchemy2 (from trackintel)\n",
      "  Downloading GeoAlchemy2-0.15.2-py3-none-any.whl.metadata (2.1 kB)\n",
      "Collecting osmnx (from trackintel)\n",
      "  Downloading osmnx-1.9.4-py3-none-any.whl.metadata (4.9 kB)\n",
      "Requirement already satisfied: scikit-learn in /usr/local/lib/python3.10/dist-packages (from trackintel) (1.5.2)\n",
      "Requirement already satisfied: tqdm in /usr/local/lib/python3.10/dist-packages (from trackintel) (4.66.6)\n",
      "Collecting similaritymeasures (from trackintel)\n",
      "  Downloading similaritymeasures-1.2.0.tar.gz (401 kB)\n",
      "\u001b[2K     \u001b[90m━━━━━━━━━━━━━━━━━━━━━━━━━━━━━━━━━━━━━━━━\u001b[0m \u001b[32m401.3/401.3 kB\u001b[0m \u001b[31m25.6 MB/s\u001b[0m eta \u001b[36m0:00:00\u001b[0m\n",
      "\u001b[?25h  Preparing metadata (setup.py) ... \u001b[?25l\u001b[?25hdone\n",
      "Requirement already satisfied: pyogrio>=0.7.2 in /usr/local/lib/python3.10/dist-packages (from geopandas>=0.12.0->trackintel) (0.10.0)\n",
      "Requirement already satisfied: packaging in /usr/local/lib/python3.10/dist-packages (from geopandas>=0.12.0->trackintel) (24.1)\n",
      "Requirement already satisfied: pyproj>=3.3.0 in /usr/local/lib/python3.10/dist-packages (from geopandas>=0.12.0->trackintel) (3.7.0)\n",
      "Requirement already satisfied: python-dateutil>=2.8.2 in /usr/local/lib/python3.10/dist-packages (from pandas->trackintel) (2.8.2)\n",
      "Requirement already satisfied: pytz>=2020.1 in /usr/local/lib/python3.10/dist-packages (from pandas->trackintel) (2024.2)\n",
      "Requirement already satisfied: tzdata>=2022.7 in /usr/local/lib/python3.10/dist-packages (from pandas->trackintel) (2024.2)\n",
      "Requirement already satisfied: SQLAlchemy>=1.4 in /usr/local/lib/python3.10/dist-packages (from geoalchemy2->trackintel) (2.0.36)\n",
      "Requirement already satisfied: contourpy>=1.0.1 in /usr/local/lib/python3.10/dist-packages (from matplotlib->trackintel) (1.3.0)\n",
      "Requirement already satisfied: cycler>=0.10 in /usr/local/lib/python3.10/dist-packages (from matplotlib->trackintel) (0.12.1)\n",
      "Requirement already satisfied: fonttools>=4.22.0 in /usr/local/lib/python3.10/dist-packages (from matplotlib->trackintel) (4.54.1)\n",
      "Requirement already satisfied: kiwisolver>=1.0.1 in /usr/local/lib/python3.10/dist-packages (from matplotlib->trackintel) (1.4.7)\n",
      "Requirement already satisfied: pillow>=6.2.0 in /usr/local/lib/python3.10/dist-packages (from matplotlib->trackintel) (10.4.0)\n",
      "Requirement already satisfied: pyparsing>=2.3.1 in /usr/local/lib/python3.10/dist-packages (from matplotlib->trackintel) (3.2.0)\n",
      "Collecting geopandas>=0.12.0 (from trackintel)\n",
      "  Downloading geopandas-0.14.4-py3-none-any.whl.metadata (1.5 kB)\n",
      "Collecting networkx (from trackintel)\n",
      "  Downloading networkx-3.3-py3-none-any.whl.metadata (5.1 kB)\n",
      "Requirement already satisfied: requests<2.33,>=2.27 in /usr/local/lib/python3.10/dist-packages (from osmnx->trackintel) (2.32.3)\n",
      "Collecting fiona>=1.8.21 (from geopandas>=0.12.0->trackintel)\n",
      "  Downloading fiona-1.10.1-cp310-cp310-manylinux_2_17_x86_64.manylinux2014_x86_64.whl.metadata (56 kB)\n",
      "\u001b[2K     \u001b[90m━━━━━━━━━━━━━━━━━━━━━━━━━━━━━━━━━━━━━━━━\u001b[0m \u001b[32m56.6/56.6 kB\u001b[0m \u001b[31m4.8 MB/s\u001b[0m eta \u001b[36m0:00:00\u001b[0m\n",
      "\u001b[?25hRequirement already satisfied: scipy>=1.6.0 in /usr/local/lib/python3.10/dist-packages (from scikit-learn->trackintel) (1.13.1)\n",
      "Requirement already satisfied: joblib>=1.2.0 in /usr/local/lib/python3.10/dist-packages (from scikit-learn->trackintel) (1.4.2)\n",
      "Requirement already satisfied: threadpoolctl>=3.1.0 in /usr/local/lib/python3.10/dist-packages (from scikit-learn->trackintel) (3.5.0)\n",
      "Requirement already satisfied: attrs>=19.2.0 in /usr/local/lib/python3.10/dist-packages (from fiona>=1.8.21->geopandas>=0.12.0->trackintel) (24.2.0)\n",
      "Requirement already satisfied: certifi in /usr/local/lib/python3.10/dist-packages (from fiona>=1.8.21->geopandas>=0.12.0->trackintel) (2024.8.30)\n",
      "Requirement already satisfied: click~=8.0 in /usr/local/lib/python3.10/dist-packages (from fiona>=1.8.21->geopandas>=0.12.0->trackintel) (8.1.7)\n",
      "Collecting click-plugins>=1.0 (from fiona>=1.8.21->geopandas>=0.12.0->trackintel)\n",
      "  Downloading click_plugins-1.1.1-py2.py3-none-any.whl.metadata (6.4 kB)\n",
      "Collecting cligj>=0.5 (from fiona>=1.8.21->geopandas>=0.12.0->trackintel)\n",
      "  Downloading cligj-0.7.2-py3-none-any.whl.metadata (5.0 kB)\n",
      "Requirement already satisfied: six>=1.5 in /usr/local/lib/python3.10/dist-packages (from python-dateutil>=2.8.2->pandas->trackintel) (1.16.0)\n",
      "Requirement already satisfied: charset-normalizer<4,>=2 in /usr/local/lib/python3.10/dist-packages (from requests<2.33,>=2.27->osmnx->trackintel) (3.4.0)\n",
      "Requirement already satisfied: idna<4,>=2.5 in /usr/local/lib/python3.10/dist-packages (from requests<2.33,>=2.27->osmnx->trackintel) (3.10)\n",
      "Requirement already satisfied: urllib3<3,>=1.21.1 in /usr/local/lib/python3.10/dist-packages (from requests<2.33,>=2.27->osmnx->trackintel) (2.2.3)\n",
      "Requirement already satisfied: typing-extensions>=4.6.0 in /usr/local/lib/python3.10/dist-packages (from SQLAlchemy>=1.4->geoalchemy2->trackintel) (4.12.2)\n",
      "Requirement already satisfied: greenlet!=0.4.17 in /usr/local/lib/python3.10/dist-packages (from SQLAlchemy>=1.4->geoalchemy2->trackintel) (3.1.1)\n",
      "Downloading trackintel-1.3.1-py3-none-any.whl (156 kB)\n",
      "\u001b[2K   \u001b[90m━━━━━━━━━━━━━━━━━━━━━━━━━━━━━━━━━━━━━━━━\u001b[0m \u001b[32m156.1/156.1 kB\u001b[0m \u001b[31m13.9 MB/s\u001b[0m eta \u001b[36m0:00:00\u001b[0m\n",
      "\u001b[?25hDownloading GeoAlchemy2-0.15.2-py3-none-any.whl (73 kB)\n",
      "\u001b[2K   \u001b[90m━━━━━━━━━━━━━━━━━━━━━━━━━━━━━━━━━━━━━━━━\u001b[0m \u001b[32m73.6/73.6 kB\u001b[0m \u001b[31m7.1 MB/s\u001b[0m eta \u001b[36m0:00:00\u001b[0m\n",
      "\u001b[?25hDownloading osmnx-1.9.4-py3-none-any.whl (107 kB)\n",
      "\u001b[2K   \u001b[90m━━━━━━━━━━━━━━━━━━━━━━━━━━━━━━━━━━━━━━━━\u001b[0m \u001b[32m107.5/107.5 kB\u001b[0m \u001b[31m9.8 MB/s\u001b[0m eta \u001b[36m0:00:00\u001b[0m\n",
      "\u001b[?25hDownloading geopandas-0.14.4-py3-none-any.whl (1.1 MB)\n",
      "\u001b[2K   \u001b[90m━━━━━━━━━━━━━━━━━━━━━━━━━━━━━━━━━━━━━━━━\u001b[0m \u001b[32m1.1/1.1 MB\u001b[0m \u001b[31m33.1 MB/s\u001b[0m eta \u001b[36m0:00:00\u001b[0m\n",
      "\u001b[?25hDownloading networkx-3.3-py3-none-any.whl (1.7 MB)\n",
      "\u001b[2K   \u001b[90m━━━━━━━━━━━━━━━━━━━━━━━━━━━━━━━━━━━━━━━━\u001b[0m \u001b[32m1.7/1.7 MB\u001b[0m \u001b[31m67.0 MB/s\u001b[0m eta \u001b[36m0:00:00\u001b[0m\n",
      "\u001b[?25hDownloading fiona-1.10.1-cp310-cp310-manylinux_2_17_x86_64.manylinux2014_x86_64.whl (17.3 MB)\n",
      "\u001b[2K   \u001b[90m━━━━━━━━━━━━━━━━━━━━━━━━━━━━━━━━━━━━━━━━\u001b[0m \u001b[32m17.3/17.3 MB\u001b[0m \u001b[31m99.3 MB/s\u001b[0m eta \u001b[36m0:00:00\u001b[0m\n",
      "\u001b[?25hDownloading click_plugins-1.1.1-py2.py3-none-any.whl (7.5 kB)\n",
      "Downloading cligj-0.7.2-py3-none-any.whl (7.1 kB)\n",
      "Building wheels for collected packages: similaritymeasures\n",
      "  Building wheel for similaritymeasures (setup.py) ... \u001b[?25l\u001b[?25hdone\n",
      "  Created wheel for similaritymeasures: filename=similaritymeasures-1.2.0-py3-none-any.whl size=15433 sha256=1e6938b5296141ce43feb88693b65d9d8207c7ef5f695d209b34da7931fabd1b\n",
      "  Stored in directory: /root/.cache/pip/wheels/0f/8b/4f/b9dd125a4fa600b2d9ee19e728feb3f24bf19bdfd9eeda9191\n",
      "Successfully built similaritymeasures\n",
      "Installing collected packages: networkx, cligj, click-plugins, similaritymeasures, geoalchemy2, fiona, geopandas, osmnx, trackintel\n",
      "  Attempting uninstall: networkx\n",
      "    Found existing installation: networkx 3.4.2\n",
      "    Uninstalling networkx-3.4.2:\n",
      "      Successfully uninstalled networkx-3.4.2\n",
      "  Attempting uninstall: geopandas\n",
      "    Found existing installation: geopandas 1.0.1\n",
      "    Uninstalling geopandas-1.0.1:\n",
      "      Successfully uninstalled geopandas-1.0.1\n",
      "Successfully installed click-plugins-1.1.1 cligj-0.7.2 fiona-1.10.1 geoalchemy2-0.15.2 geopandas-0.14.4 networkx-3.3 osmnx-1.9.4 similaritymeasures-1.2.0 trackintel-1.3.1\n"
     ]
    }
   ],
   "source": [
    "!pip install trackintel"
   ]
  },
  {
   "cell_type": "code",
   "execution_count": null,
   "metadata": {
    "id": "e9HJx8YGP9z4"
   },
   "outputs": [],
   "source": [
    "import pandas as pd\n",
    "import trackintel as ti\n",
    "import gzip\n",
    "import os\n",
    "import geopandas as gpd\n"
   ]
  },
  {
   "cell_type": "code",
   "execution_count": null,
   "metadata": {
    "id": "qalQz-_2P-XQ"
   },
   "outputs": [],
   "source": [
    "# Define the path to the .gz files\n",
    "data_files = {\n",
    "    'A': \"./cityA_groundtruthdata.csv.gz\",\n",
    "    'B': \"./cityB_challengedata.csv.gz\",\n",
    "    'C': \"./cityC_challengedata.csv.gz\",\n",
    "    'D': \"./cityD_challengedata.csv.gz\"\n",
    "}\n"
   ]
  },
  {
   "cell_type": "code",
   "execution_count": null,
   "metadata": {
    "id": "WLuR7TXuQBVD"
   },
   "outputs": [],
   "source": [
    "# Function to load .gz files into DataFrame\n",
    "def load_gz_file(file_path):\n",
    "    with gzip.open(file_path, 'rt') as f:\n",
    "        return pd.read_csv(f)\n"
   ]
  },
  {
   "cell_type": "code",
   "execution_count": null,
   "metadata": {
    "id": "j9WLrVQ2QGrM"
   },
   "outputs": [],
   "source": [
    "# Function to add 'tracked_at' column, rename uid to user_id, x to longtitude , y to latitude, and drop rows with -999 coordinates\n",
    "def preprocess_data(city):\n",
    "    #load data\n",
    "    df = load_gz_file(data_files[city])\n",
    "\n",
    "    # Drop rows with missing data (x, y marked as -999)\n",
    "    df = df[(df['x'] != -999) & (df['y'] != -999)]\n",
    "\n",
    "    # Add the 'tracked_at' column by combining 'd' and 't' columns\n",
    "    df['date'] = pd.to_datetime(df['d'], format='%j', errors='coerce')\n",
    "    df['time'] = pd.to_timedelta(df['t'] * 30, unit='m')\n",
    "    df['tracked_at'] = df['date'] + df['time']\n",
    "    df['tracked_at'] = df['tracked_at'].dt.tz_localize('UTC')\n",
    "\n",
    "    # Drop the intermediate 'date' and 'time' columns\n",
    "    df.drop(columns=['date', 'time'], inplace=True)\n",
    "\n",
    "    # Rename columns\n",
    "    df.rename(columns={'uid': 'user_id', 'x': 'longitude', 'y': 'latitude'}, inplace=True)\n",
    "    df.to_csv(f'data_{city}_preprocessed.csv', index=False)\n",
    "    print(f\"Data saved to csv\")"
   ]
  },
  {
   "cell_type": "code",
   "execution_count": null,
   "metadata": {
    "id": "upt2iddLkbO_"
   },
   "outputs": [],
   "source": [
    "def custom_write_triplegs_csv(triplegs, filename, **kwargs):\n",
    "    \"\"\"Saves triplegs data to a CSV file with custom options.\n",
    "\n",
    "    Args:\n",
    "        triplegs: The triplegs data.\n",
    "        filename: The name of the output CSV file.\n",
    "        **kwargs: Additional keyword arguments to pass to to_csv.\n",
    "    \"\"\"\n",
    "    triplegs_df = triplegs.to_wkt(rounding_precision=-1, trim=False)\n",
    "    triplegs_df.to_csv(filename, **kwargs)  # Use kwargs to control index etc.\n",
    "\n"
   ]
  },
  {
   "cell_type": "code",
   "execution_count": null,
   "metadata": {
    "colab": {
     "base_uri": "https://localhost:8080/",
     "height": 157
    },
    "id": "SwDH0f5gQIG-",
    "outputId": "089f9f1d-ee1d-4478-9d53-bbadc2ef79aa"
   },
   "outputs": [
    {
     "data": {
      "application/vnd.google.colaboratory.intrinsic+json": {
       "type": "string"
      },
      "text/plain": [
       "'\\ntime_threshold: This is the minimum amount of time a person needs to stay within a small area (defined by dist_threshold) for that area to be considered a staypoint. If the time spent in that spot meets or exceeds time_threshold, it qualifies as a staypoint.\\n\\ngap_threshold: This is the maximum time allowed between consecutive position fixes for them to be considered part of a continuous sequence. If the time gap between two position fixes is larger than gap_threshold, they are considered discontinuous, meaning they won’t be grouped into the same staypoint.\\n'"
      ]
     },
     "execution_count": 9,
     "metadata": {},
     "output_type": "execute_result"
    }
   ],
   "source": [
    "def gen_triplegs(city):\n",
    "    #preprocess data and save as csv\n",
    "    print(f\"Preprocessing city {city} data\")\n",
    "    preprocess_data(city)\n",
    "\n",
    "    # Load preprocessed data and generate positionfixes\n",
    "    print(f\"Loading preprocessed data: city {city}\")\n",
    "    pfs = ti.read_positionfixes_csv(f'data_{city}_preprocessed.csv')\n",
    "\n",
    "    #gerenate staypoints\n",
    "    print(\"Generating staypoints\")\n",
    "    pfs , sp = pfs.as_positionfixes.generate_staypoints(\n",
    "    method='sliding',\n",
    "    dist_threshold=1,  # Distance threshold in meters (1 cell = 500 meters)\n",
    "    time_threshold=90,  # Time threshold  (minutes) #test with different values \n",
    "    gap_threshold=300,  # Gap threshold  (minutes)  #test with different values \n",
    "    distance_metric='haversine',  # Distance metric\n",
    "    include_last=True,  # Include the last staypoint\n",
    "    print_progress=True,  # Print progress\n",
    "    exclude_duplicate_pfs=True,  # Exclude duplicate position fixes\n",
    "    n_jobs=-1  # Number of jobs for parallel processing\n",
    ")\n",
    "\n",
    "    #generate triplegs using positionfixes and staypoints generated earlier\n",
    "    print(\"Generating triplegs\")\n",
    "    \n",
    "    #test with different values\n",
    "    #larger gap leads to lesser and more continuous trip\n",
    "    #gap threshold in generate_triplegs should be configured in relation to both time and the gap threshold used in generate_staypoints\n",
    "    pfs , tpls = ti.preprocessing.generate_triplegs(pfs , sp , method='between_staypoints' , gap_threshold=90) \n",
    "    print(\"Saving Triplegs to csv\")\n",
    "    custom_write_triplegs_csv(tpls, f'triplegs{city}.csv', index=False)\n",
    "    print(\"Triplegs saved to csv\")\n",
    "\n",
    "\n"
   ]
  },
  {
   "cell_type": "code",
   "execution_count": null,
   "metadata": {
    "colab": {
     "base_uri": "https://localhost:8080/"
    },
    "id": "2EfqfVJ7kSMc",
    "outputId": "c1235d4e-736e-4cf2-9be5-ef92d9b0e34c"
   },
   "outputs": [
    {
     "name": "stdout",
     "output_type": "stream",
     "text": [
      "Preprocessing city A data\n",
      "Data saved to csv\n",
      "Loading preprocessed data: city A\n"
     ]
    },
    {
     "name": "stderr",
     "output_type": "stream",
     "text": [
      "/usr/local/lib/python3.10/dist-packages/trackintel/io/util.py:13: UserWarning: Assuming default index as unique identifier. Pass 'index_col=None' as explicit argument to avoid a warning.\n",
      "  warnings.warn(\n"
     ]
    },
    {
     "name": "stdout",
     "output_type": "stream",
     "text": [
      "Generating staypoints\n"
     ]
    },
    {
     "name": "stderr",
     "output_type": "stream",
     "text": [
      "100%|██████████| 100000/100000 [29:49<00:00, 55.89it/s]\n"
     ]
    },
    {
     "name": "stdout",
     "output_type": "stream",
     "text": [
      "Generating triplegs\n"
     ]
    },
    {
     "name": "stderr",
     "output_type": "stream",
     "text": [
      "/usr/local/lib/python3.10/dist-packages/trackintel/preprocessing/positionfixes.py:361: FutureWarning: Downcasting object dtype arrays on .fillna, .ffill, .bfill is deprecated and will change in a future version. Call result.infer_objects(copy=False) instead. To opt-in to the future behavior, set `pd.set_option('future.no_silent_downcasting', True)`\n",
      "  pfs[\"tripleg_id\"] = pfs[\"tripleg_id\"].ffill()\n",
      "/usr/local/lib/python3.10/dist-packages/trackintel/preprocessing/positionfixes.py:573: UserWarning: The positionfixes with ids [   639842    638957    678518 ... 111528316 111528317 111528318] lead to invalid tripleg geometries. The resulting triplegs were omitted and the tripleg id of the positionfixes was set to nan\n",
      "  warnings.warn(warn_string)\n"
     ]
    },
    {
     "name": "stdout",
     "output_type": "stream",
     "text": [
      "Saving Triplegs to csv\n",
      "Triplegs saved to csv\n"
     ]
    }
   ],
   "source": [
    "gen_triplegs('A')"
   ]
  },
  {
   "cell_type": "code",
   "execution_count": null,
   "metadata": {
    "id": "TvOSkoHitchz"
   },
   "outputs": [],
   "source": []
  }
 ],
 "metadata": {
  "accelerator": "GPU",
  "colab": {
   "gpuType": "A100",
   "machine_shape": "hm",
   "provenance": []
  },
  "kernelspec": {
   "display_name": "Python 3",
   "name": "python3"
  },
  "language_info": {
   "name": "python",
   "version": "3.10.6"
  }
 },
 "nbformat": 4,
 "nbformat_minor": 0
}
